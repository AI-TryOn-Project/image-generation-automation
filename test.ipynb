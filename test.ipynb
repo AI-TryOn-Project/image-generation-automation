{
 "cells": [
  {
   "cell_type": "code",
   "execution_count": null,
   "metadata": {},
   "outputs": [
    {
     "name": "stdout",
     "output_type": "stream",
     "text": [
      "Requirement already satisfied: requests in /Users/roy/miniconda3/lib/python3.11/site-packages (2.29.0)\n",
      "Requirement already satisfied: pillow in /Users/roy/miniconda3/lib/python3.11/site-packages (10.3.0)\n",
      "Requirement already satisfied: tqdm in /Users/roy/miniconda3/lib/python3.11/site-packages (4.65.0)\n",
      "Requirement already satisfied: charset-normalizer<4,>=2 in /Users/roy/miniconda3/lib/python3.11/site-packages (from requests) (2.0.4)\n",
      "Requirement already satisfied: idna<4,>=2.5 in /Users/roy/miniconda3/lib/python3.11/site-packages (from requests) (3.4)\n",
      "Requirement already satisfied: urllib3<1.27,>=1.21.1 in /Users/roy/miniconda3/lib/python3.11/site-packages (from requests) (1.26.16)\n",
      "Requirement already satisfied: certifi>=2017.4.17 in /Users/roy/miniconda3/lib/python3.11/site-packages (from requests) (2024.2.2)\n",
      "Note: you may need to restart the kernel to use updated packages.\n"
     ]
    }
   ],
   "source": [
    "%pip install requests pillow tqdm ipywidgets voila"
   ]
  },
  {
   "cell_type": "code",
   "execution_count": 3,
   "metadata": {},
   "outputs": [],
   "source": [
    "import threading\n",
    "import requests\n",
    "from PIL import Image\n",
    "from io import BytesIO\n",
    "import os\n",
    "import json\n",
    "import base64\n",
    "from pathlib import Path\n",
    "from tqdm import tqdm"
   ]
  },
  {
   "cell_type": "code",
   "execution_count": 4,
   "metadata": {},
   "outputs": [],
   "source": [
    "def ensure_directory_exists(directory):\n",
    "    if not os.path.exists(directory):\n",
    "        os.makedirs(directory)\n",
    "\n",
    "def encode_image_to_base64(image_path):\n",
    "    \"\"\"Encode image to Base64 string.\"\"\"\n",
    "    with Image.open(image_path) as image:\n",
    "        buffered = BytesIO()\n",
    "        image.save(buffered, format=\"JPEG\")  # You can change the format to PNG if required\n",
    "        return base64.b64encode(buffered.getvalue()).decode('utf-8')\n",
    "\n",
    "import os\n",
    "import shutil\n",
    "\n",
    "def delete_contents(directory):\n",
    "    \"\"\"\n",
    "    Delete all files and directories inside the given directory.\n",
    "    \n",
    "    :param directory: The path to the directory whose contents are to be deleted.\n",
    "    \"\"\"\n",
    "    for filename in os.listdir(directory):\n",
    "        file_path = os.path.join(directory, filename)\n",
    "        try:\n",
    "            if os.path.isfile(file_path) or os.path.islink(file_path):\n",
    "                os.remove(file_path)\n",
    "                print(f\"Deleted file: {file_path}\")\n",
    "            elif os.path.isdir(file_path):\n",
    "                shutil.rmtree(file_path)\n",
    "                print(f\"Deleted directory: {file_path}\")\n",
    "        except Exception as e:\n",
    "            print(f\"Failed to delete {file_path}. Reason: {e}\")\n"
   ]
  },
  {
   "cell_type": "code",
   "execution_count": 5,
   "metadata": {},
   "outputs": [],
   "source": [
    "def send_image(model_path, face_path, version, \n",
    "               prompt = 'street', age = '20', bodyShape = 'slim', ethnic = 'asian', sex = 'female', skinColor = 'white'):\n",
    "    \"\"\"Sends a JSON payload with image URLs and additional parameters to the API.\"\"\"\n",
    "    api_url = ''\n",
    "    if version == 'released': \n",
    "        api_url = 'https://tryon-advanced.tianlong.co.uk/upload/images'\n",
    "    elif version == 'test': \n",
    "        api_url = 'https://tryon-advanced-test.tianlong.co.uk/upload/images'\n",
    "        \n",
    "    # face_name = Path(face_path).stem\n",
    "    face_image_base64 = encode_image_to_base64(face_path)\n",
    "    model_name = Path(model_path).stem\n",
    "    model_image_base64 = encode_image_to_base64(model_path)\n",
    "        \n",
    "    headers = {\n",
    "        'accept': 'application/json',\n",
    "        'accept-language': 'en-US,en;q=0.9,zh-CN;q=0.8,zh;q=0.7',\n",
    "        'content-type': 'application/json',\n",
    "        'cookie': 'notion_browser_id=002af42f-7cf4-4482-aadf-cb1a963d4333; intercom-id-gpfdrxfd=dae204e3-2158-4794-a9d5-806af9449033; intercom-device-id-gpfdrxfd=48b033f5-8ce4-4d8f-8f30-35af5f8dfff1; amp_af43d4=002af42f7cf44482aadfcb1a963d4333...1hs9k2j74.1hs9k2j75.d.0.d',\n",
    "        'origin': 'chrome-extension://ommjpdpphbobbcnjkfdmfekajmhdiijf',\n",
    "        'priority': 'u=1, i',\n",
    "        'sec-fetch-dest': 'empty',\n",
    "        'sec-fetch-mode': 'cors',\n",
    "        'sec-fetch-site': 'none',\n",
    "        'user-agent': 'Mozilla/5.0 (Macintosh; Intel Mac OS X 10_15_7) AppleWebKit/537.36 (KHTML, like Gecko) Chrome/124.0.0.0 Safari/537.36'\n",
    "    }\n",
    "\n",
    "    data = {\n",
    "        'model': f\"{model_image_base64}\",\n",
    "        'face': f\"{face_image_base64}\",\n",
    "        'prompt': prompt,\n",
    "        'seed': 7894674637868,\n",
    "        'enhanceTryOnData': {\n",
    "            'age': age,\n",
    "            'bodyShape': bodyShape,\n",
    "            'ethnic': ethnic,\n",
    "            'sex': sex,\n",
    "            'skinColor': skinColor\n",
    "        }\n",
    "    }\n",
    "    \n",
    "    \n",
    "\n",
    "    response = requests.post(api_url, headers=headers, json=data)\n",
    "    if response.status_code == 200 and 'application/json' in response.headers.get('Content-Type', ''):\n",
    "        response_data = response.json()\n",
    "        if response_data.get('status') == 'success' and 'image' in response_data:\n",
    "            image_data = base64.b64decode(response_data['image'])\n",
    "            image = Image.open(BytesIO(image_data))\n",
    "            generated_image_path = f'./generated_folder/{version}/{model_name}_{version}.png'\n",
    "            image.save(generated_image_path, format='PNG')\n",
    "            return generated_image_path\n",
    "    print(f'Failed to retrieve an image from {version} version.')\n",
    "    print('Status Code:', response.status_code)\n",
    "    print('Response:', response.text)\n",
    "    return None\n"
   ]
  },
  {
   "cell_type": "code",
   "execution_count": 6,
   "metadata": {},
   "outputs": [],
   "source": [
    "def create_html(model_path, face_path, released_image_path, test_image_path, model_name):\n",
    "    \"\"\"Generate HTML content for a single comparison.\"\"\"\n",
    "    return f\"\"\"\n",
    "    <div class=\"image-row\">\n",
    "        <div>\n",
    "            <h2>Face Image</h2>\n",
    "            <img src=\"{face_path}\" alt=\"Face Image\">\n",
    "        </div>\n",
    "        <div>\n",
    "            <h2>Model Image</h2>\n",
    "            <img src=\"{model_path}\" alt=\"Model Image\">\n",
    "        </div>\n",
    "        <div>\n",
    "            <h2>Generated Image (Released Version)</h2>\n",
    "            <img src=\"{released_image_path}\" alt=\"Generated Image (Released)\">\n",
    "        </div>\n",
    "        <div>\n",
    "            <h2>Generated Image (Test Version)</h2>\n",
    "            <img src=\"{test_image_path}\" alt=\"Generated Image (Test)\">\n",
    "        </div>\n",
    "    </div>\n",
    "    <hr>\n",
    "    \"\"\"\n",
    "    # html_file_path = f'./generated_folder/comparison/{model_name}_comparison.html'\n",
    "    # with open(html_file_path, 'w') as file:\n",
    "    #     file.write(html_content)\n",
    "    # # print(f'HTML file created at {html_file_path}')"
   ]
  },
  {
   "cell_type": "code",
   "execution_count": 7,
   "metadata": {},
   "outputs": [],
   "source": [
    "\n",
    "def main(model_folder, face_path, prompt, age, bodyShape, ethnic, sex, skinColor):\n",
    "\n",
    "    ensure_directory_exists('./generated_folder/comparison')\n",
    "    ensure_directory_exists('./generated_folder/released')\n",
    "    ensure_directory_exists('./generated_folder/test')\n",
    "    delete_contents('./generated_folder/comparison')\n",
    "    delete_contents('./generated_folder/released')\n",
    "    delete_contents('./generated_folder/test')\n",
    "    \n",
    "    model_list = list(Path(model_folder).glob('*.jpg'))\n",
    "    \n",
    "    html_content = \"\"\"\n",
    "    <!DOCTYPE html>\n",
    "    <html lang=\"en\">\n",
    "    <head>\n",
    "        <meta charset=\"UTF-8\">\n",
    "        <meta name=\"viewport\" content=\"width=device-width, initial-scale=1.0\">\n",
    "        <title>Image Comparison</title>\n",
    "        <style>\n",
    "            .image-row {\n",
    "                display: flex;\n",
    "                justify-content: space-around;\n",
    "                align-items: center;\n",
    "                margin-top: 20px;\n",
    "            }\n",
    "            .image-row div {\n",
    "                text-align: center;\n",
    "            }\n",
    "            img {\n",
    "                max-width: 400px;\n",
    "                margin: 10px;\n",
    "                border: 2px solid #ccc;\n",
    "            }\n",
    "            hr {\n",
    "                margin: 40px 0;\n",
    "            }\n",
    "        </style>\n",
    "    </head>\n",
    "    <body>\n",
    "        <h1>Model to Face Image Comparison</h1>\n",
    "    \"\"\"\n",
    "\n",
    "    for model_path in tqdm(model_list, total=len(model_list)):\n",
    "        model_name = model_path.stem\n",
    "        model_path = str(model_path)\n",
    "        \n",
    "        # Send to the released version\n",
    "        released_image_path = send_image(model_path, face_path, 'released', prompt, age, bodyShape, ethnic, sex, skinColor)\n",
    "\n",
    "        # Send to the test version\n",
    "        test_image_path = send_image(model_path, face_path, 'test', prompt, age, bodyShape, ethnic, sex, skinColor)\n",
    "    \n",
    "\n",
    "        if released_image_path and test_image_path:\n",
    "            face_path_ = f'../../{face_path}'\n",
    "            model_path = f'../../{model_path}'\n",
    "            released_image_path = f'../{str(Path(*Path(released_image_path).parts[-2:]))}'\n",
    "            test_image_path = f'../{str(Path(*Path(test_image_path).parts[-2:]))}'\n",
    "            print(model_path, released_image_path, test_image_path)\n",
    "            html_content += create_html(model_path, face_path_, released_image_path, test_image_path, model_name)\n",
    "        else:\n",
    "            print(f'{model_path}: Failed to generate comparison due to missing images.')\n",
    "            \n",
    "            \n",
    "    html_content += \"\"\"\n",
    "        </body>\n",
    "        </html>\n",
    "        \"\"\"\n",
    "        \n",
    "    with open('./generated_folder/comparison/model_face_comparison.html', 'w') as file:\n",
    "        file.write(html_content)\n",
    "    print('HTML file created at ./generated_folder/comparison/model_face_comparison.html')\n"
   ]
  },
  {
   "cell_type": "code",
   "execution_count": 8,
   "metadata": {},
   "outputs": [
    {
     "name": "stdout",
     "output_type": "stream",
     "text": [
      "Deleted file: ./generated_folder/comparison/model_face_comparison.html\n"
     ]
    },
    {
     "name": "stderr",
     "output_type": "stream",
     "text": [
      " 12%|██▉                    | 1/8 [00:42<04:59, 42.79s/it]"
     ]
    },
    {
     "name": "stdout",
     "output_type": "stream",
     "text": [
      "../../model_folder/KHW010187-001_2_540x.jpg ../released/KHW010187-001_2_540x_released.png ../test/KHW010187-001_2_540x_test.png\n"
     ]
    },
    {
     "name": "stderr",
     "output_type": "stream",
     "text": [
      " 25%|█████▊                 | 2/8 [01:22<04:04, 40.70s/it]"
     ]
    },
    {
     "name": "stdout",
     "output_type": "stream",
     "text": [
      "../../model_folder/SPRING_2_LB_LOOK-15_SHOT-1_2044_540x.jpg ../released/SPRING_2_LB_LOOK-15_SHOT-1_2044_540x_released.png ../test/SPRING_2_LB_LOOK-15_SHOT-1_2044_540x_test.png\n"
     ]
    },
    {
     "name": "stderr",
     "output_type": "stream",
     "text": [
      " 38%|████████▋              | 3/8 [02:00<03:19, 39.86s/it]"
     ]
    },
    {
     "name": "stdout",
     "output_type": "stream",
     "text": [
      "../../model_folder/KHW010191-001_2_540x.jpg ../released/KHW010191-001_2_540x_released.png ../test/KHW010191-001_2_540x_test.png\n"
     ]
    },
    {
     "name": "stderr",
     "output_type": "stream",
     "text": [
      " 50%|███████████▌           | 4/8 [02:40<02:38, 39.71s/it]"
     ]
    },
    {
     "name": "stdout",
     "output_type": "stream",
     "text": [
      "../../model_folder/KHM010513-459_2_540x.jpg ../released/KHM010513-459_2_540x_released.png ../test/KHM010513-459_2_540x_test.png\n"
     ]
    },
    {
     "name": "stderr",
     "output_type": "stream",
     "text": [
      " 62%|██████████████▍        | 5/8 [03:20<01:59, 39.80s/it]"
     ]
    },
    {
     "name": "stdout",
     "output_type": "stream",
     "text": [
      "../../model_folder/70_5283644d-9b59-47d0-9721-4f48ceafaac5_540x.jpg ../released/70_5283644d-9b59-47d0-9721-4f48ceafaac5_540x_released.png ../test/70_5283644d-9b59-47d0-9721-4f48ceafaac5_540x_test.png\n"
     ]
    },
    {
     "name": "stderr",
     "output_type": "stream",
     "text": [
      " 75%|█████████████████▎     | 6/8 [04:00<01:19, 39.85s/it]"
     ]
    },
    {
     "name": "stdout",
     "output_type": "stream",
     "text": [
      "../../model_folder/Mens_Spring_Lookbook_Day1_LOOK3_SHOT2_0816_540x.jpg ../released/Mens_Spring_Lookbook_Day1_LOOK3_SHOT2_0816_540x_released.png ../test/Mens_Spring_Lookbook_Day1_LOOK3_SHOT2_0816_540x_test.png\n"
     ]
    },
    {
     "name": "stderr",
     "output_type": "stream",
     "text": [
      " 88%|████████████████████▏  | 7/8 [04:40<00:39, 39.92s/it]"
     ]
    },
    {
     "name": "stdout",
     "output_type": "stream",
     "text": [
      "../../model_folder/KHW010189-309_2_540x.jpg ../released/KHW010189-309_2_540x_released.png ../test/KHW010189-309_2_540x_test.png\n"
     ]
    },
    {
     "name": "stderr",
     "output_type": "stream",
     "text": [
      "100%|███████████████████████| 8/8 [05:19<00:00, 39.95s/it]"
     ]
    },
    {
     "name": "stdout",
     "output_type": "stream",
     "text": [
      "../../model_folder/KHW030465-001_2_540x.jpg ../released/KHW030465-001_2_540x_released.png ../test/KHW030465-001_2_540x_test.png\n",
      "HTML file created at ./generated_folder/comparison/model_face_comparison.html\n"
     ]
    },
    {
     "name": "stderr",
     "output_type": "stream",
     "text": [
      "\n"
     ]
    }
   ],
   "source": [
    "model_folder = 'model_folder'\n",
    "face_path = 'face_folder/000_yyqx.jpg'\n",
    "\n",
    "prompt = 'street'\n",
    "age = '20'\n",
    "bodyShape = 'slim'\n",
    "ethnic = 'asian'\n",
    "sex = 'female'\n",
    "skinColor = 'white'\n",
    "\n",
    "               \n",
    "# main(model_folder, face_path, prompt, age, bodyShape, ethnic, sex, skinColor)"
   ]
  },
  {
   "cell_type": "code",
   "execution_count": 9,
   "metadata": {},
   "outputs": [
    {
     "data": {
      "text/plain": [
       "'/home/faishion/image-generation-automation'"
      ]
     },
     "execution_count": 9,
     "metadata": {},
     "output_type": "execute_result"
    }
   ],
   "source": [
    "os.getcwd()"
   ]
  },
  {
   "cell_type": "code",
   "execution_count": 10,
   "metadata": {},
   "outputs": [],
   "source": [
    "import ipywidgets as widgets\n",
    "from IPython.display import display\n",
    "\n",
    "# Input widgets\n",
    "model_folder_widget = widgets.Text(\n",
    "    value='model_folder',\n",
    "    description='Model Folder:',\n",
    "    disabled=False\n",
    ")\n",
    "face_path_widget = widgets.Text(\n",
    "    value='face_folder/000_yyqx.jpg',\n",
    "    description='Face Image:',\n",
    "    disabled=False\n",
    ")\n",
    "prompt_widget = widgets.Text(\n",
    "    value='street',\n",
    "    description='Prompt:',\n",
    "    disabled=False\n",
    ")\n",
    "age_widget = widgets.Text(\n",
    "    value='20',\n",
    "    description='Age:',\n",
    "    disabled=False\n",
    ")\n",
    "bodyShape_widget = widgets.Text(\n",
    "    value='slim',\n",
    "    description='Body Shape:',\n",
    "    disabled=False\n",
    ")\n",
    "ethnic_widget = widgets.Text(\n",
    "    value='asian',\n",
    "    description='Ethnic:',\n",
    "    disabled=False\n",
    ")\n",
    "sex_widget = widgets.Text(\n",
    "    value='female',\n",
    "    description='Sex:',\n",
    "    disabled=False\n",
    ")\n",
    "skinColor_widget = widgets.Text(\n",
    "    value='white',\n",
    "    description='Skin Color:',\n",
    "    disabled=False\n",
    ")\n",
    "\n",
    "# Control buttons\n",
    "run_button = widgets.Button(\n",
    "    description='Run'\n",
    ")\n",
    "\n",
    "output = widgets.Output()"
   ]
  },
  {
   "cell_type": "code",
   "execution_count": null,
   "metadata": {},
   "outputs": [],
   "source": [
    "def on_button_clicked(b):\n",
    "    with output:\n",
    "        output.clear_output()\n",
    "        main(\n",
    "            model_folder_widget.value,\n",
    "            face_path_widget.value,\n",
    "            prompt_widget.value,\n",
    "            age_widget.value,\n",
    "            bodyShape_widget.value,\n",
    "            ethnic_widget.value,\n",
    "            sex_widget.value,\n",
    "            skinColor_widget.value\n",
    "        )\n",
    "\n",
    "run_button.on_click(on_button_clicked)\n",
    "\n",
    "display(\n",
    "    model_folder_widget,\n",
    "    face_path_widget,\n",
    "    prompt_widget,\n",
    "    age_widget,\n",
    "    bodyShape_widget,\n",
    "    ethnic_widget,\n",
    "    sex_widget,\n",
    "    skinColor_widget,\n",
    "    run_button,\n",
    "    output\n",
    ")"
   ]
  },
  {
   "cell_type": "code",
   "execution_count": 11,
   "metadata": {},
   "outputs": [
    {
     "name": "stderr",
     "output_type": "stream",
     "text": [
      "/bin/sh: 1: google-chrome: not found\n",
      "/bin/sh: 1: google-chrome-stable: not found\n",
      "/bin/sh: 1: google-chrome-beta: not found\n",
      "/bin/sh: 1: google-chrome-dev: not found\n",
      "/bin/sh: 1: google-chrome: not found\n",
      "/bin/sh: 1: google-chrome-stable: not found\n",
      "/bin/sh: 1: google-chrome-beta: not found\n",
      "/bin/sh: 1: google-chrome-dev: not found\n"
     ]
    },
    {
     "ename": "AttributeError",
     "evalue": "'NoneType' object has no attribute 'split'",
     "output_type": "error",
     "traceback": [
      "\u001b[0;31m---------------------------------------------------------------------------\u001b[0m",
      "\u001b[0;31mAttributeError\u001b[0m                            Traceback (most recent call last)",
      "Cell \u001b[0;32mIn[11], line 7\u001b[0m\n\u001b[1;32m      4\u001b[0m \u001b[38;5;28;01mfrom\u001b[39;00m \u001b[38;5;21;01mpyhtml2pdf\u001b[39;00m \u001b[38;5;28;01mimport\u001b[39;00m converter\n\u001b[1;32m      6\u001b[0m path \u001b[38;5;241m=\u001b[39m os\u001b[38;5;241m.\u001b[39mpath\u001b[38;5;241m.\u001b[39mabspath(\u001b[38;5;124m'\u001b[39m\u001b[38;5;124m./generation_folder/comparison/model_face_comparison.html\u001b[39m\u001b[38;5;124m'\u001b[39m)\n\u001b[0;32m----> 7\u001b[0m \u001b[43mconverter\u001b[49m\u001b[38;5;241;43m.\u001b[39;49m\u001b[43mconvert\u001b[49m\u001b[43m(\u001b[49m\u001b[38;5;124;43mf\u001b[39;49m\u001b[38;5;124;43m'\u001b[39;49m\u001b[38;5;124;43mfile:///\u001b[39;49m\u001b[38;5;132;43;01m{\u001b[39;49;00m\u001b[43mpath\u001b[49m\u001b[38;5;132;43;01m}\u001b[39;49;00m\u001b[38;5;124;43m'\u001b[39;49m\u001b[43m,\u001b[49m\u001b[43m \u001b[49m\u001b[38;5;124;43m'\u001b[39;49m\u001b[38;5;124;43m./generation_folder/comparison/sample.pdf\u001b[39;49m\u001b[38;5;124;43m'\u001b[39;49m\u001b[43m)\u001b[49m\n",
      "File \u001b[0;32m~/miniconda3/lib/python3.12/site-packages/pyhtml2pdf/converter.py:38\u001b[0m, in \u001b[0;36mconvert\u001b[0;34m(source, target, timeout, compress, power, install_driver, print_options)\u001b[0m\n\u001b[1;32m     17\u001b[0m \u001b[38;5;28;01mdef\u001b[39;00m \u001b[38;5;21mconvert\u001b[39m(\n\u001b[1;32m     18\u001b[0m     source: \u001b[38;5;28mstr\u001b[39m,\n\u001b[1;32m     19\u001b[0m     target: \u001b[38;5;28mstr\u001b[39m,\n\u001b[0;32m   (...)\u001b[0m\n\u001b[1;32m     24\u001b[0m     print_options: \u001b[38;5;28mdict\u001b[39m \u001b[38;5;241m=\u001b[39m {},\n\u001b[1;32m     25\u001b[0m ):\n\u001b[1;32m     26\u001b[0m \u001b[38;5;250m    \u001b[39m\u001b[38;5;124;03m\"\"\"\u001b[39;00m\n\u001b[1;32m     27\u001b[0m \u001b[38;5;124;03m    Convert a given html file or website into PDF\u001b[39;00m\n\u001b[1;32m     28\u001b[0m \n\u001b[0;32m   (...)\u001b[0m\n\u001b[1;32m     35\u001b[0m \u001b[38;5;124;03m    :param dict print_options: options for the printing of the PDF. This can be any of the params in here:https://vanilla.aslushnikov.com/?Page.printToPDF\u001b[39;00m\n\u001b[1;32m     36\u001b[0m \u001b[38;5;124;03m    \"\"\"\u001b[39;00m\n\u001b[0;32m---> 38\u001b[0m     result \u001b[38;5;241m=\u001b[39m \u001b[43m__get_pdf_from_html\u001b[49m\u001b[43m(\u001b[49m\n\u001b[1;32m     39\u001b[0m \u001b[43m        \u001b[49m\u001b[43msource\u001b[49m\u001b[43m,\u001b[49m\u001b[43m \u001b[49m\u001b[43mtimeout\u001b[49m\u001b[43m,\u001b[49m\u001b[43m \u001b[49m\u001b[43minstall_driver\u001b[49m\u001b[43m,\u001b[49m\u001b[43m \u001b[49m\u001b[43mprint_options\u001b[49m\u001b[43m)\u001b[49m\n\u001b[1;32m     41\u001b[0m     \u001b[38;5;28;01mif\u001b[39;00m compress:\n\u001b[1;32m     42\u001b[0m         __compress(result, target, power)\n",
      "File \u001b[0;32m~/miniconda3/lib/python3.12/site-packages/pyhtml2pdf/converter.py:76\u001b[0m, in \u001b[0;36m__get_pdf_from_html\u001b[0;34m(path, timeout, install_driver, print_options)\u001b[0m\n\u001b[1;32m     73\u001b[0m webdriver_prefs[\u001b[38;5;124m\"\u001b[39m\u001b[38;5;124mprofile.default_content_settings\u001b[39m\u001b[38;5;124m\"\u001b[39m] \u001b[38;5;241m=\u001b[39m {\u001b[38;5;124m\"\u001b[39m\u001b[38;5;124mimages\u001b[39m\u001b[38;5;124m\"\u001b[39m: \u001b[38;5;241m2\u001b[39m}\n\u001b[1;32m     75\u001b[0m \u001b[38;5;28;01mif\u001b[39;00m install_driver:\n\u001b[0;32m---> 76\u001b[0m     service \u001b[38;5;241m=\u001b[39m Service(\u001b[43mChromeDriverManager\u001b[49m\u001b[43m(\u001b[49m\u001b[43m)\u001b[49m\u001b[38;5;241;43m.\u001b[39;49m\u001b[43minstall\u001b[49m\u001b[43m(\u001b[49m\u001b[43m)\u001b[49m)\n\u001b[1;32m     77\u001b[0m     driver \u001b[38;5;241m=\u001b[39m webdriver\u001b[38;5;241m.\u001b[39mChrome(service\u001b[38;5;241m=\u001b[39mservice, options\u001b[38;5;241m=\u001b[39mwebdriver_options)\n\u001b[1;32m     78\u001b[0m \u001b[38;5;28;01melse\u001b[39;00m:\n",
      "File \u001b[0;32m~/miniconda3/lib/python3.12/site-packages/webdriver_manager/chrome.py:40\u001b[0m, in \u001b[0;36mChromeDriverManager.install\u001b[0;34m(self)\u001b[0m\n\u001b[1;32m     39\u001b[0m \u001b[38;5;28;01mdef\u001b[39;00m \u001b[38;5;21minstall\u001b[39m(\u001b[38;5;28mself\u001b[39m) \u001b[38;5;241m-\u001b[39m\u001b[38;5;241m>\u001b[39m \u001b[38;5;28mstr\u001b[39m:\n\u001b[0;32m---> 40\u001b[0m     driver_path \u001b[38;5;241m=\u001b[39m \u001b[38;5;28;43mself\u001b[39;49m\u001b[38;5;241;43m.\u001b[39;49m\u001b[43m_get_driver_binary_path\u001b[49m\u001b[43m(\u001b[49m\u001b[38;5;28;43mself\u001b[39;49m\u001b[38;5;241;43m.\u001b[39;49m\u001b[43mdriver\u001b[49m\u001b[43m)\u001b[49m\n\u001b[1;32m     41\u001b[0m     os\u001b[38;5;241m.\u001b[39mchmod(driver_path, \u001b[38;5;241m0o755\u001b[39m)\n\u001b[1;32m     42\u001b[0m     \u001b[38;5;28;01mreturn\u001b[39;00m driver_path\n",
      "File \u001b[0;32m~/miniconda3/lib/python3.12/site-packages/webdriver_manager/core/manager.py:40\u001b[0m, in \u001b[0;36mDriverManager._get_driver_binary_path\u001b[0;34m(self, driver)\u001b[0m\n\u001b[1;32m     37\u001b[0m     \u001b[38;5;28;01mreturn\u001b[39;00m binary_path\n\u001b[1;32m     39\u001b[0m os_type \u001b[38;5;241m=\u001b[39m \u001b[38;5;28mself\u001b[39m\u001b[38;5;241m.\u001b[39mget_os_type()\n\u001b[0;32m---> 40\u001b[0m file \u001b[38;5;241m=\u001b[39m \u001b[38;5;28mself\u001b[39m\u001b[38;5;241m.\u001b[39m_download_manager\u001b[38;5;241m.\u001b[39mdownload_file(\u001b[43mdriver\u001b[49m\u001b[38;5;241;43m.\u001b[39;49m\u001b[43mget_driver_download_url\u001b[49m\u001b[43m(\u001b[49m\u001b[43mos_type\u001b[49m\u001b[43m)\u001b[49m)\n\u001b[1;32m     41\u001b[0m binary_path \u001b[38;5;241m=\u001b[39m \u001b[38;5;28mself\u001b[39m\u001b[38;5;241m.\u001b[39m_cache_manager\u001b[38;5;241m.\u001b[39msave_file_to_cache(driver, file)\n\u001b[1;32m     42\u001b[0m \u001b[38;5;28;01mreturn\u001b[39;00m binary_path\n",
      "File \u001b[0;32m~/miniconda3/lib/python3.12/site-packages/webdriver_manager/drivers/chrome.py:32\u001b[0m, in \u001b[0;36mChromeDriver.get_driver_download_url\u001b[0;34m(self, os_type)\u001b[0m\n\u001b[1;32m     31\u001b[0m \u001b[38;5;28;01mdef\u001b[39;00m \u001b[38;5;21mget_driver_download_url\u001b[39m(\u001b[38;5;28mself\u001b[39m, os_type):\n\u001b[0;32m---> 32\u001b[0m     driver_version_to_download \u001b[38;5;241m=\u001b[39m \u001b[38;5;28;43mself\u001b[39;49m\u001b[38;5;241;43m.\u001b[39;49m\u001b[43mget_driver_version_to_download\u001b[49m\u001b[43m(\u001b[49m\u001b[43m)\u001b[49m\n\u001b[1;32m     33\u001b[0m     \u001b[38;5;66;03m# For Mac ARM CPUs after version 106.0.5249.61 the format of OS type changed\u001b[39;00m\n\u001b[1;32m     34\u001b[0m     \u001b[38;5;66;03m# to more unified \"mac_arm64\". For newer versions, it'll be \"mac_arm64\"\u001b[39;00m\n\u001b[1;32m     35\u001b[0m     \u001b[38;5;66;03m# by default, for lower versions we replace \"mac_arm64\" to old format - \"mac64_m1\".\u001b[39;00m\n\u001b[1;32m     36\u001b[0m     \u001b[38;5;28;01mif\u001b[39;00m version\u001b[38;5;241m.\u001b[39mparse(driver_version_to_download) \u001b[38;5;241m<\u001b[39m version\u001b[38;5;241m.\u001b[39mparse(\u001b[38;5;124m\"\u001b[39m\u001b[38;5;124m106.0.5249.61\u001b[39m\u001b[38;5;124m\"\u001b[39m):\n",
      "File \u001b[0;32m~/miniconda3/lib/python3.12/site-packages/webdriver_manager/core/driver.py:48\u001b[0m, in \u001b[0;36mDriver.get_driver_version_to_download\u001b[0;34m(self)\u001b[0m\n\u001b[1;32m     45\u001b[0m \u001b[38;5;28;01mif\u001b[39;00m \u001b[38;5;28mself\u001b[39m\u001b[38;5;241m.\u001b[39m_driver_version_to_download:\n\u001b[1;32m     46\u001b[0m     \u001b[38;5;28;01mreturn\u001b[39;00m \u001b[38;5;28mself\u001b[39m\u001b[38;5;241m.\u001b[39m_driver_version_to_download\n\u001b[0;32m---> 48\u001b[0m \u001b[38;5;28;01mreturn\u001b[39;00m \u001b[38;5;28;43mself\u001b[39;49m\u001b[38;5;241;43m.\u001b[39;49m\u001b[43mget_latest_release_version\u001b[49m\u001b[43m(\u001b[49m\u001b[43m)\u001b[49m\n",
      "File \u001b[0;32m~/miniconda3/lib/python3.12/site-packages/webdriver_manager/drivers/chrome.py:64\u001b[0m, in \u001b[0;36mChromeDriver.get_latest_release_version\u001b[0;34m(self)\u001b[0m\n\u001b[1;32m     62\u001b[0m     \u001b[38;5;28;01mreturn\u001b[39;00m determined_browser_version\n\u001b[1;32m     63\u001b[0m \u001b[38;5;66;03m# Remove the build version (the last segment) from determined_browser_version for version < 113\u001b[39;00m\n\u001b[0;32m---> 64\u001b[0m determined_browser_version \u001b[38;5;241m=\u001b[39m \u001b[38;5;124m\"\u001b[39m\u001b[38;5;124m.\u001b[39m\u001b[38;5;124m\"\u001b[39m\u001b[38;5;241m.\u001b[39mjoin(\u001b[43mdetermined_browser_version\u001b[49m\u001b[38;5;241;43m.\u001b[39;49m\u001b[43msplit\u001b[49m(\u001b[38;5;124m\"\u001b[39m\u001b[38;5;124m.\u001b[39m\u001b[38;5;124m\"\u001b[39m)[:\u001b[38;5;241m3\u001b[39m])\n\u001b[1;32m     65\u001b[0m latest_release_url \u001b[38;5;241m=\u001b[39m (\n\u001b[1;32m     66\u001b[0m     \u001b[38;5;28mself\u001b[39m\u001b[38;5;241m.\u001b[39m_latest_release_url\n\u001b[1;32m     67\u001b[0m     \u001b[38;5;28;01mif\u001b[39;00m (determined_browser_version \u001b[38;5;129;01mis\u001b[39;00m \u001b[38;5;28;01mNone\u001b[39;00m)\n\u001b[1;32m     68\u001b[0m     \u001b[38;5;28;01melse\u001b[39;00m \u001b[38;5;124mf\u001b[39m\u001b[38;5;124m\"\u001b[39m\u001b[38;5;132;01m{\u001b[39;00m\u001b[38;5;28mself\u001b[39m\u001b[38;5;241m.\u001b[39m_latest_release_url\u001b[38;5;132;01m}\u001b[39;00m\u001b[38;5;124m_\u001b[39m\u001b[38;5;132;01m{\u001b[39;00mdetermined_browser_version\u001b[38;5;132;01m}\u001b[39;00m\u001b[38;5;124m\"\u001b[39m\n\u001b[1;32m     69\u001b[0m )\n\u001b[1;32m     70\u001b[0m resp \u001b[38;5;241m=\u001b[39m \u001b[38;5;28mself\u001b[39m\u001b[38;5;241m.\u001b[39m_http_client\u001b[38;5;241m.\u001b[39mget(url\u001b[38;5;241m=\u001b[39mlatest_release_url)\n",
      "\u001b[0;31mAttributeError\u001b[0m: 'NoneType' object has no attribute 'split'"
     ]
    }
   ],
   "source": [
    "from pyhtml2pdf import converter\n",
    "\n",
    "import os\n",
    "from pyhtml2pdf import converter\n",
    "\n",
    "path = os.path.abspath('./generation_folder/comparison/model_face_comparison.html')\n",
    "converter.convert(f'file:///{path}', './generation_folder/comparison/sample.pdf')"
   ]
  }
 ],
 "metadata": {
  "kernelspec": {
   "display_name": "Python 3 (ipykernel)",
   "language": "python",
   "name": "python3"
  },
  "language_info": {
   "codemirror_mode": {
    "name": "ipython",
    "version": 3
   },
   "file_extension": ".py",
   "mimetype": "text/x-python",
   "name": "python",
   "nbconvert_exporter": "python",
   "pygments_lexer": "ipython3",
   "version": "3.12.2"
  }
 },
 "nbformat": 4,
 "nbformat_minor": 4
}
