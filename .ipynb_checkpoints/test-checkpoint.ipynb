{
 "cells": [
  {
   "cell_type": "code",
   "execution_count": null,
   "metadata": {},
   "outputs": [
    {
     "name": "stdout",
     "output_type": "stream",
     "text": [
      "Requirement already satisfied: requests in /Users/roy/miniconda3/lib/python3.11/site-packages (2.29.0)\n",
      "Requirement already satisfied: pillow in /Users/roy/miniconda3/lib/python3.11/site-packages (10.3.0)\n",
      "Requirement already satisfied: tqdm in /Users/roy/miniconda3/lib/python3.11/site-packages (4.65.0)\n",
      "Requirement already satisfied: charset-normalizer<4,>=2 in /Users/roy/miniconda3/lib/python3.11/site-packages (from requests) (2.0.4)\n",
      "Requirement already satisfied: idna<4,>=2.5 in /Users/roy/miniconda3/lib/python3.11/site-packages (from requests) (3.4)\n",
      "Requirement already satisfied: urllib3<1.27,>=1.21.1 in /Users/roy/miniconda3/lib/python3.11/site-packages (from requests) (1.26.16)\n",
      "Requirement already satisfied: certifi>=2017.4.17 in /Users/roy/miniconda3/lib/python3.11/site-packages (from requests) (2024.2.2)\n",
      "Note: you may need to restart the kernel to use updated packages.\n"
     ]
    }
   ],
   "source": [
    "%pip install requests pillow tqdm ipywidgets voila"
   ]
  },
  {
   "cell_type": "code",
   "execution_count": 3,
   "metadata": {},
   "outputs": [],
   "source": [
    "import threading\n",
    "import requests\n",
    "from PIL import Image\n",
    "from io import BytesIO\n",
    "import os\n",
    "import json\n",
    "import base64\n",
    "from pathlib import Path\n",
    "from tqdm import tqdm"
   ]
  },
  {
   "cell_type": "code",
   "execution_count": 4,
   "metadata": {},
   "outputs": [],
   "source": [
    "def ensure_directory_exists(directory):\n",
    "    if not os.path.exists(directory):\n",
    "        os.makedirs(directory)\n",
    "\n",
    "def encode_image_to_base64(image_path):\n",
    "    \"\"\"Encode image to Base64 string.\"\"\"\n",
    "    with Image.open(image_path) as image:\n",
    "        buffered = BytesIO()\n",
    "        image.save(buffered, format=\"JPEG\")  # You can change the format to PNG if required\n",
    "        return base64.b64encode(buffered.getvalue()).decode('utf-8')\n",
    "\n",
    "import os\n",
    "import shutil\n",
    "\n",
    "def delete_contents(directory):\n",
    "    \"\"\"\n",
    "    Delete all files and directories inside the given directory.\n",
    "    \n",
    "    :param directory: The path to the directory whose contents are to be deleted.\n",
    "    \"\"\"\n",
    "    for filename in os.listdir(directory):\n",
    "        file_path = os.path.join(directory, filename)\n",
    "        try:\n",
    "            if os.path.isfile(file_path) or os.path.islink(file_path):\n",
    "                os.remove(file_path)\n",
    "                print(f\"Deleted file: {file_path}\")\n",
    "            elif os.path.isdir(file_path):\n",
    "                shutil.rmtree(file_path)\n",
    "                print(f\"Deleted directory: {file_path}\")\n",
    "        except Exception as e:\n",
    "            print(f\"Failed to delete {file_path}. Reason: {e}\")\n"
   ]
  },
  {
   "cell_type": "code",
   "execution_count": 5,
   "metadata": {},
   "outputs": [],
   "source": [
    "def send_image(model_path, face_path, version, \n",
    "               prompt = 'street', age = '20', bodyShape = 'slim', ethnic = 'asian', sex = 'female', skinColor = 'white'):\n",
    "    \"\"\"Sends a JSON payload with image URLs and additional parameters to the API.\"\"\"\n",
    "    api_url = ''\n",
    "    if version == 'released': \n",
    "        api_url = 'https://tryon-advanced.tianlong.co.uk/upload/images'\n",
    "    elif version == 'test': \n",
    "        api_url = 'https://tryon-advanced-test.tianlong.co.uk/upload/images'\n",
    "        \n",
    "    # face_name = Path(face_path).stem\n",
    "    face_image_base64 = encode_image_to_base64(face_path)\n",
    "    model_name = Path(model_path).stem\n",
    "    model_image_base64 = encode_image_to_base64(model_path)\n",
    "        \n",
    "    headers = {\n",
    "        'accept': 'application/json',\n",
    "        'accept-language': 'en-US,en;q=0.9,zh-CN;q=0.8,zh;q=0.7',\n",
    "        'content-type': 'application/json',\n",
    "        'cookie': 'notion_browser_id=002af42f-7cf4-4482-aadf-cb1a963d4333; intercom-id-gpfdrxfd=dae204e3-2158-4794-a9d5-806af9449033; intercom-device-id-gpfdrxfd=48b033f5-8ce4-4d8f-8f30-35af5f8dfff1; amp_af43d4=002af42f7cf44482aadfcb1a963d4333...1hs9k2j74.1hs9k2j75.d.0.d',\n",
    "        'origin': 'chrome-extension://ommjpdpphbobbcnjkfdmfekajmhdiijf',\n",
    "        'priority': 'u=1, i',\n",
    "        'sec-fetch-dest': 'empty',\n",
    "        'sec-fetch-mode': 'cors',\n",
    "        'sec-fetch-site': 'none',\n",
    "        'user-agent': 'Mozilla/5.0 (Macintosh; Intel Mac OS X 10_15_7) AppleWebKit/537.36 (KHTML, like Gecko) Chrome/124.0.0.0 Safari/537.36'\n",
    "    }\n",
    "\n",
    "    data = {\n",
    "        'model': f\"{model_image_base64}\",\n",
    "        'face': f\"{face_image_base64}\",\n",
    "        'prompt': prompt,\n",
    "        'seed': 7894674637868,\n",
    "        'enhanceTryOnData': {\n",
    "            'age': age,\n",
    "            'bodyShape': bodyShape,\n",
    "            'ethnic': ethnic,\n",
    "            'sex': sex,\n",
    "            'skinColor': skinColor\n",
    "        }\n",
    "    }\n",
    "    \n",
    "    \n",
    "\n",
    "    response = requests.post(api_url, headers=headers, json=data)\n",
    "    if response.status_code == 200 and 'application/json' in response.headers.get('Content-Type', ''):\n",
    "        response_data = response.json()\n",
    "        if response_data.get('status') == 'success' and 'image' in response_data:\n",
    "            image_data = base64.b64decode(response_data['image'])\n",
    "            image = Image.open(BytesIO(image_data))\n",
    "            generated_image_path = f'./generated_folder/{version}/{model_name}_{version}.png'\n",
    "            image.save(generated_image_path, format='PNG')\n",
    "            return generated_image_path\n",
    "    print(f'Failed to retrieve an image from {version} version.')\n",
    "    print('Status Code:', response.status_code)\n",
    "    print('Response:', response.text)\n",
    "    return None\n"
   ]
  },
  {
   "cell_type": "code",
   "execution_count": 6,
   "metadata": {},
   "outputs": [],
   "source": [
    "def create_html(model_path, face_path, released_image_path, test_image_path, model_name):\n",
    "    \"\"\"Generate HTML content for a single comparison.\"\"\"\n",
    "    return f\"\"\"\n",
    "    <div class=\"image-row\">\n",
    "        <div>\n",
    "            <h2>Face Image</h2>\n",
    "            <img src=\"{face_path}\" alt=\"Face Image\">\n",
    "        </div>\n",
    "        <div>\n",
    "            <h2>Model Image</h2>\n",
    "            <img src=\"{model_path}\" alt=\"Model Image\">\n",
    "        </div>\n",
    "        <div>\n",
    "            <h2>Generated Image (Released Version)</h2>\n",
    "            <img src=\"{released_image_path}\" alt=\"Generated Image (Released)\">\n",
    "        </div>\n",
    "        <div>\n",
    "            <h2>Generated Image (Test Version)</h2>\n",
    "            <img src=\"{test_image_path}\" alt=\"Generated Image (Test)\">\n",
    "        </div>\n",
    "    </div>\n",
    "    <hr>\n",
    "    \"\"\"\n",
    "    # html_file_path = f'./generated_folder/comparison/{model_name}_comparison.html'\n",
    "    # with open(html_file_path, 'w') as file:\n",
    "    #     file.write(html_content)\n",
    "    # # print(f'HTML file created at {html_file_path}')"
   ]
  },
  {
   "cell_type": "code",
   "execution_count": 7,
   "metadata": {},
   "outputs": [],
   "source": [
    "\n",
    "def main(model_folder, face_path, prompt, age, bodyShape, ethnic, sex, skinColor):\n",
    "\n",
    "    ensure_directory_exists('./generated_folder/comparison')\n",
    "    ensure_directory_exists('./generated_folder/released')\n",
    "    ensure_directory_exists('./generated_folder/test')\n",
    "    delete_contents('./generated_folder/comparison')\n",
    "    delete_contents('./generated_folder/released')\n",
    "    delete_contents('./generated_folder/test')\n",
    "    \n",
    "    model_list = list(Path(model_folder).glob('*.jpg'))\n",
    "    \n",
    "    html_content = \"\"\"\n",
    "    <!DOCTYPE html>\n",
    "    <html lang=\"en\">\n",
    "    <head>\n",
    "        <meta charset=\"UTF-8\">\n",
    "        <meta name=\"viewport\" content=\"width=device-width, initial-scale=1.0\">\n",
    "        <title>Image Comparison</title>\n",
    "        <style>\n",
    "            .image-row {\n",
    "                display: flex;\n",
    "                justify-content: space-around;\n",
    "                align-items: center;\n",
    "                margin-top: 20px;\n",
    "            }\n",
    "            .image-row div {\n",
    "                text-align: center;\n",
    "            }\n",
    "            img {\n",
    "                max-width: 400px;\n",
    "                margin: 10px;\n",
    "                border: 2px solid #ccc;\n",
    "            }\n",
    "            hr {\n",
    "                margin: 40px 0;\n",
    "            }\n",
    "        </style>\n",
    "    </head>\n",
    "    <body>\n",
    "        <h1>Model to Face Image Comparison</h1>\n",
    "    \"\"\"\n",
    "\n",
    "    for model_path in tqdm(model_list, total=len(model_list)):\n",
    "        model_name = model_path.stem\n",
    "        model_path = str(model_path)\n",
    "        \n",
    "        # Send to the released version\n",
    "        released_image_path = send_image(model_path, face_path, 'released', prompt, age, bodyShape, ethnic, sex, skinColor)\n",
    "\n",
    "        # Send to the test version\n",
    "        test_image_path = send_image(model_path, face_path, 'test', prompt, age, bodyShape, ethnic, sex, skinColor)\n",
    "    \n",
    "\n",
    "        if released_image_path and test_image_path:\n",
    "            face_path_ = f'../../{face_path}'\n",
    "            model_path = f'../../{model_path}'\n",
    "            released_image_path = f'../{str(Path(*Path(released_image_path).parts[-2:]))}'\n",
    "            test_image_path = f'../{str(Path(*Path(test_image_path).parts[-2:]))}'\n",
    "            print(model_path, released_image_path, test_image_path)\n",
    "            html_content += create_html(model_path, face_path_, released_image_path, test_image_path, model_name)\n",
    "        else:\n",
    "            print(f'{model_path}: Failed to generate comparison due to missing images.')\n",
    "            \n",
    "            \n",
    "    html_content += \"\"\"\n",
    "        </body>\n",
    "        </html>\n",
    "        \"\"\"\n",
    "        \n",
    "    with open('./generated_folder/comparison/model_face_comparison.html', 'w') as file:\n",
    "        file.write(html_content)\n",
    "    print('HTML file created at ./generated_folder/comparison/model_face_comparison.html')\n"
   ]
  },
  {
   "cell_type": "code",
   "execution_count": 8,
   "metadata": {},
   "outputs": [
    {
     "name": "stdout",
     "output_type": "stream",
     "text": [
      "Deleted file: ./generated_folder/comparison/model_face_comparison.html\n"
     ]
    },
    {
     "name": "stderr",
     "output_type": "stream",
     "text": [
      " 12%|██▉                    | 1/8 [00:42<04:59, 42.79s/it]"
     ]
    },
    {
     "name": "stdout",
     "output_type": "stream",
     "text": [
      "../../model_folder/KHW010187-001_2_540x.jpg ../released/KHW010187-001_2_540x_released.png ../test/KHW010187-001_2_540x_test.png\n"
     ]
    },
    {
     "name": "stderr",
     "output_type": "stream",
     "text": [
      " 25%|█████▊                 | 2/8 [01:22<04:04, 40.70s/it]"
     ]
    },
    {
     "name": "stdout",
     "output_type": "stream",
     "text": [
      "../../model_folder/SPRING_2_LB_LOOK-15_SHOT-1_2044_540x.jpg ../released/SPRING_2_LB_LOOK-15_SHOT-1_2044_540x_released.png ../test/SPRING_2_LB_LOOK-15_SHOT-1_2044_540x_test.png\n"
     ]
    },
    {
     "name": "stderr",
     "output_type": "stream",
     "text": [
      " 38%|████████▋              | 3/8 [02:00<03:19, 39.86s/it]"
     ]
    },
    {
     "name": "stdout",
     "output_type": "stream",
     "text": [
      "../../model_folder/KHW010191-001_2_540x.jpg ../released/KHW010191-001_2_540x_released.png ../test/KHW010191-001_2_540x_test.png\n"
     ]
    },
    {
     "name": "stderr",
     "output_type": "stream",
     "text": [
      " 50%|███████████▌           | 4/8 [02:40<02:38, 39.71s/it]"
     ]
    },
    {
     "name": "stdout",
     "output_type": "stream",
     "text": [
      "../../model_folder/KHM010513-459_2_540x.jpg ../released/KHM010513-459_2_540x_released.png ../test/KHM010513-459_2_540x_test.png\n"
     ]
    },
    {
     "name": "stderr",
     "output_type": "stream",
     "text": [
      " 62%|██████████████▍        | 5/8 [03:20<01:59, 39.80s/it]"
     ]
    },
    {
     "name": "stdout",
     "output_type": "stream",
     "text": [
      "../../model_folder/70_5283644d-9b59-47d0-9721-4f48ceafaac5_540x.jpg ../released/70_5283644d-9b59-47d0-9721-4f48ceafaac5_540x_released.png ../test/70_5283644d-9b59-47d0-9721-4f48ceafaac5_540x_test.png\n"
     ]
    },
    {
     "name": "stderr",
     "output_type": "stream",
     "text": [
      " 75%|█████████████████▎     | 6/8 [04:00<01:19, 39.85s/it]"
     ]
    },
    {
     "name": "stdout",
     "output_type": "stream",
     "text": [
      "../../model_folder/Mens_Spring_Lookbook_Day1_LOOK3_SHOT2_0816_540x.jpg ../released/Mens_Spring_Lookbook_Day1_LOOK3_SHOT2_0816_540x_released.png ../test/Mens_Spring_Lookbook_Day1_LOOK3_SHOT2_0816_540x_test.png\n"
     ]
    },
    {
     "name": "stderr",
     "output_type": "stream",
     "text": [
      " 88%|████████████████████▏  | 7/8 [04:40<00:39, 39.92s/it]"
     ]
    },
    {
     "name": "stdout",
     "output_type": "stream",
     "text": [
      "../../model_folder/KHW010189-309_2_540x.jpg ../released/KHW010189-309_2_540x_released.png ../test/KHW010189-309_2_540x_test.png\n"
     ]
    },
    {
     "name": "stderr",
     "output_type": "stream",
     "text": [
      "100%|███████████████████████| 8/8 [05:19<00:00, 39.95s/it]"
     ]
    },
    {
     "name": "stdout",
     "output_type": "stream",
     "text": [
      "../../model_folder/KHW030465-001_2_540x.jpg ../released/KHW030465-001_2_540x_released.png ../test/KHW030465-001_2_540x_test.png\n",
      "HTML file created at ./generated_folder/comparison/model_face_comparison.html\n"
     ]
    },
    {
     "name": "stderr",
     "output_type": "stream",
     "text": [
      "\n"
     ]
    }
   ],
   "source": [
    "model_folder = 'model_folder'\n",
    "face_path = 'face_folder/000_yyqx.jpg'\n",
    "\n",
    "prompt = 'street'\n",
    "age = '20'\n",
    "bodyShape = 'slim'\n",
    "ethnic = 'asian'\n",
    "sex = 'female'\n",
    "skinColor = 'white'\n",
    "\n",
    "               \n",
    "# main(model_folder, face_path, prompt, age, bodyShape, ethnic, sex, skinColor)"
   ]
  },
  {
   "cell_type": "code",
   "execution_count": 9,
   "metadata": {},
   "outputs": [
    {
     "data": {
      "text/plain": [
       "'/home/faishion/image-generation-automation'"
      ]
     },
     "execution_count": 9,
     "metadata": {},
     "output_type": "execute_result"
    }
   ],
   "source": [
    "os.getcwd()"
   ]
  },
  {
   "cell_type": "code",
   "execution_count": 10,
   "metadata": {},
   "outputs": [],
   "source": [
    "import ipywidgets as widgets\n",
    "from IPython.display import display\n",
    "\n",
    "# Input widgets\n",
    "model_folder_widget = widgets.Text(\n",
    "    value='model_folder',\n",
    "    description='Model Folder:',\n",
    "    disabled=False\n",
    ")\n",
    "face_path_widget = widgets.Text(\n",
    "    value='face_folder/000_yyqx.jpg',\n",
    "    description='Face Image:',\n",
    "    disabled=False\n",
    ")\n",
    "prompt_widget = widgets.Text(\n",
    "    value='street',\n",
    "    description='Prompt:',\n",
    "    disabled=False\n",
    ")\n",
    "age_widget = widgets.Text(\n",
    "    value='20',\n",
    "    description='Age:',\n",
    "    disabled=False\n",
    ")\n",
    "bodyShape_widget = widgets.Text(\n",
    "    value='slim',\n",
    "    description='Body Shape:',\n",
    "    disabled=False\n",
    ")\n",
    "ethnic_widget = widgets.Text(\n",
    "    value='asian',\n",
    "    description='Ethnic:',\n",
    "    disabled=False\n",
    ")\n",
    "sex_widget = widgets.Text(\n",
    "    value='female',\n",
    "    description='Sex:',\n",
    "    disabled=False\n",
    ")\n",
    "skinColor_widget = widgets.Text(\n",
    "    value='white',\n",
    "    description='Skin Color:',\n",
    "    disabled=False\n",
    ")\n",
    "\n",
    "# Control buttons\n",
    "run_button = widgets.Button(\n",
    "    description='Run'\n",
    ")\n",
    "\n",
    "output = widgets.Output()"
   ]
  },
  {
   "cell_type": "code",
   "execution_count": null,
   "metadata": {},
   "outputs": [],
   "source": [
    "def on_button_clicked(b):\n",
    "    with output:\n",
    "        output.clear_output()\n",
    "        main(\n",
    "            model_folder_widget.value,\n",
    "            face_path_widget.value,\n",
    "            prompt_widget.value,\n",
    "            age_widget.value,\n",
    "            bodyShape_widget.value,\n",
    "            ethnic_widget.value,\n",
    "            sex_widget.value,\n",
    "            skinColor_widget.value\n",
    "        )\n",
    "\n",
    "run_button.on_click(on_button_clicked)\n",
    "\n",
    "display(\n",
    "    model_folder_widget,\n",
    "    face_path_widget,\n",
    "    prompt_widget,\n",
    "    age_widget,\n",
    "    bodyShape_widget,\n",
    "    ethnic_widget,\n",
    "    sex_widget,\n",
    "    skinColor_widget,\n",
    "    run_button,\n",
    "    output\n",
    ")"
   ]
  }
 ],
 "metadata": {
  "kernelspec": {
   "display_name": "Python 3 (ipykernel)",
   "language": "python",
   "name": "python3"
  },
  "language_info": {
   "codemirror_mode": {
    "name": "ipython",
    "version": 3
   },
   "file_extension": ".py",
   "mimetype": "text/x-python",
   "name": "python",
   "nbconvert_exporter": "python",
   "pygments_lexer": "ipython3",
   "version": "3.12.2"
  }
 },
 "nbformat": 4,
 "nbformat_minor": 4
}
